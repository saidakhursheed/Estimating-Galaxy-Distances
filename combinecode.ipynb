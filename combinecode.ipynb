{
  "cells": [
    {
      "cell_type": "code",
      "execution_count": 1,
      "id": "92d1e56f-7871-4339-9cb9-9bd4b7b53579",
      "metadata": {
        "colab": {
          "base_uri": "https://localhost:8080/"
        },
        "id": "92d1e56f-7871-4339-9cb9-9bd4b7b53579",
        "outputId": "bddaec39-5630-4ab1-c6f0-cef39bc8c1c8"
      },
      "outputs": [
        {
          "output_type": "stream",
          "name": "stdout",
          "text": [
            "Collecting optuna\n",
            "  Downloading optuna-3.6.1-py3-none-any.whl.metadata (17 kB)\n",
            "Collecting alembic>=1.5.0 (from optuna)\n",
            "  Downloading alembic-1.13.2-py3-none-any.whl.metadata (7.4 kB)\n",
            "Collecting colorlog (from optuna)\n",
            "  Downloading colorlog-6.8.2-py3-none-any.whl.metadata (10 kB)\n",
            "Requirement already satisfied: numpy in /usr/local/lib/python3.10/dist-packages (from optuna) (1.26.4)\n",
            "Requirement already satisfied: packaging>=20.0 in /usr/local/lib/python3.10/dist-packages (from optuna) (24.1)\n",
            "Requirement already satisfied: sqlalchemy>=1.3.0 in /usr/local/lib/python3.10/dist-packages (from optuna) (2.0.31)\n",
            "Requirement already satisfied: tqdm in /usr/local/lib/python3.10/dist-packages (from optuna) (4.66.4)\n",
            "Requirement already satisfied: PyYAML in /usr/local/lib/python3.10/dist-packages (from optuna) (6.0.1)\n",
            "Collecting Mako (from alembic>=1.5.0->optuna)\n",
            "  Downloading Mako-1.3.5-py3-none-any.whl.metadata (2.9 kB)\n",
            "Requirement already satisfied: typing-extensions>=4 in /usr/local/lib/python3.10/dist-packages (from alembic>=1.5.0->optuna) (4.12.2)\n",
            "Requirement already satisfied: greenlet!=0.4.17 in /usr/local/lib/python3.10/dist-packages (from sqlalchemy>=1.3.0->optuna) (3.0.3)\n",
            "Requirement already satisfied: MarkupSafe>=0.9.2 in /usr/local/lib/python3.10/dist-packages (from Mako->alembic>=1.5.0->optuna) (2.1.5)\n",
            "Downloading optuna-3.6.1-py3-none-any.whl (380 kB)\n",
            "\u001b[2K   \u001b[90m━━━━━━━━━━━━━━━━━━━━━━━━━━━━━━━━━━━━━━━━\u001b[0m \u001b[32m380.1/380.1 kB\u001b[0m \u001b[31m15.7 MB/s\u001b[0m eta \u001b[36m0:00:00\u001b[0m\n",
            "\u001b[?25hDownloading alembic-1.13.2-py3-none-any.whl (232 kB)\n",
            "\u001b[2K   \u001b[90m━━━━━━━━━━━━━━━━━━━━━━━━━━━━━━━━━━━━━━━━\u001b[0m \u001b[32m233.0/233.0 kB\u001b[0m \u001b[31m13.3 MB/s\u001b[0m eta \u001b[36m0:00:00\u001b[0m\n",
            "\u001b[?25hDownloading colorlog-6.8.2-py3-none-any.whl (11 kB)\n",
            "Downloading Mako-1.3.5-py3-none-any.whl (78 kB)\n",
            "\u001b[2K   \u001b[90m━━━━━━━━━━━━━━━━━━━━━━━━━━━━━━━━━━━━━━━━\u001b[0m \u001b[32m78.6/78.6 kB\u001b[0m \u001b[31m5.9 MB/s\u001b[0m eta \u001b[36m0:00:00\u001b[0m\n",
            "\u001b[?25hInstalling collected packages: Mako, colorlog, alembic, optuna\n",
            "Successfully installed Mako-1.3.5 alembic-1.13.2 colorlog-6.8.2 optuna-3.6.1\n"
          ]
        }
      ],
      "source": [
        "!pip install optuna\n"
      ]
    },
    {
      "cell_type": "code",
      "execution_count": 2,
      "id": "410616d7-aff3-465d-b0b9-b3f99678a4e4",
      "metadata": {
        "colab": {
          "base_uri": "https://localhost:8080/"
        },
        "id": "410616d7-aff3-465d-b0b9-b3f99678a4e4",
        "outputId": "04f50bb1-6053-45dc-85df-2fc4cb5eca52"
      },
      "outputs": [
        {
          "output_type": "stream",
          "name": "stdout",
          "text": [
            "Mounted at /content/drive\n"
          ]
        }
      ],
      "source": [
        "import pandas as pd\n",
        "import numpy as np\n",
        "from sklearn.model_selection import train_test_split, cross_val_score\n",
        "from sklearn.ensemble import RandomForestRegressor, GradientBoostingRegressor\n",
        "from sklearn.metrics import mean_squared_error\n",
        "import optuna\n",
        "\n",
        "from google.colab import drive\n",
        "drive.mount('/content/drive')\n",
        "# Load the dataset\n",
        "df = pd.read_csv('/content/drive/MyDrive/merge_happy_and_teddy.csv')"
      ]
    },
    {
      "cell_type": "code",
      "execution_count": 3,
      "id": "f6743e44-9814-49a9-8d69-b326e53fcf08",
      "metadata": {
        "id": "f6743e44-9814-49a9-8d69-b326e53fcf08"
      },
      "outputs": [],
      "source": [
        "# Define feature columns and target column (using normalized features)\n",
        "features = ['feat1', 'feat2', 'feat3', 'feat4', 'feat5']\n",
        "target = 'z_spec'\n"
      ]
    },
    {
      "cell_type": "code",
      "execution_count": 4,
      "id": "cd86fe6a-01d5-4815-b2ed-64bdeafcbf57",
      "metadata": {
        "id": "cd86fe6a-01d5-4815-b2ed-64bdeafcbf57"
      },
      "outputs": [],
      "source": [
        "# Handle missing values\n",
        "df = df.dropna(subset=features + [target])\n"
      ]
    },
    {
      "cell_type": "code",
      "execution_count": 5,
      "id": "94bf9759-43ba-4444-ba6b-37d7694e8ea5",
      "metadata": {
        "id": "94bf9759-43ba-4444-ba6b-37d7694e8ea5"
      },
      "outputs": [],
      "source": [
        "X = df[features]\n",
        "y = df[target]\n",
        "\n"
      ]
    },
    {
      "cell_type": "code",
      "execution_count": 6,
      "id": "f4433ac8-11d4-4512-8c8b-4fb71a198054",
      "metadata": {
        "id": "f4433ac8-11d4-4512-8c8b-4fb71a198054"
      },
      "outputs": [],
      "source": [
        "# Split the data\n",
        "X_train, X_test, y_train, y_test = train_test_split(X, y, test_size=0.2, random_state=42)"
      ]
    },
    {
      "cell_type": "code",
      "execution_count": 7,
      "id": "1d261b03-18bb-44c9-a8bc-99c53a652c9c",
      "metadata": {
        "id": "1d261b03-18bb-44c9-a8bc-99c53a652c9c"
      },
      "outputs": [],
      "source": [
        "# Define the objective function for Optuna\n",
        "def objective(trial):\n",
        "    model_type = trial.suggest_categorical('model_type', ['RandomForest', 'GradientBoosting'])\n",
        "    if model_type == 'RandomForest':\n",
        "        n_estimators = trial.suggest_int('n_estimators', 50, 300)\n",
        "        max_depth = trial.suggest_int('max_depth', 10, 50)\n",
        "        model = RandomForestRegressor(\n",
        "            n_estimators=n_estimators,\n",
        "            max_depth=max_depth,\n",
        "            random_state=42\n",
        "        )\n",
        "    else:\n",
        "        learning_rate = trial.suggest_loguniform('learning_rate', 0.01, 0.2)\n",
        "        n_estimators = trial.suggest_int('n_estimators', 50, 300)\n",
        "        max_depth = trial.suggest_int('max_depth', 10, 50)\n",
        "        model = GradientBoostingRegressor(\n",
        "            learning_rate=learning_rate,\n",
        "            n_estimators=n_estimators,\n",
        "            max_depth=max_depth,\n",
        "            random_state=42\n",
        "        )\n",
        "\n",
        "    model.fit(X_train, y_train)\n",
        "    y_pred = model.predict(X_test)\n",
        "    mse = mean_squared_error(y_test, y_pred)\n",
        "    return mse"
      ]
    },
    {
      "cell_type": "code",
      "execution_count": 1,
      "id": "4782cb00-9b1c-490f-8cdf-c0c1f0e41f89",
      "metadata": {
        "colab": {
          "base_uri": "https://localhost:8080/",
          "height": 176
        },
        "id": "4782cb00-9b1c-490f-8cdf-c0c1f0e41f89",
        "outputId": "8eea6c5c-ec14-464e-d2ac-f74b87275e68"
      },
      "outputs": [
        {
          "output_type": "error",
          "ename": "NameError",
          "evalue": "name 'optuna' is not defined",
          "traceback": [
            "\u001b[0;31m---------------------------------------------------------------------------\u001b[0m",
            "\u001b[0;31mNameError\u001b[0m                                 Traceback (most recent call last)",
            "\u001b[0;32m<ipython-input-1-9f23c1eb43b5>\u001b[0m in \u001b[0;36m<cell line: 2>\u001b[0;34m()\u001b[0m\n\u001b[1;32m      1\u001b[0m \u001b[0;31m# Create a study and optimize the objective function\u001b[0m\u001b[0;34m\u001b[0m\u001b[0;34m\u001b[0m\u001b[0m\n\u001b[0;32m----> 2\u001b[0;31m \u001b[0mstudy\u001b[0m \u001b[0;34m=\u001b[0m \u001b[0moptuna\u001b[0m\u001b[0;34m.\u001b[0m\u001b[0mcreate_study\u001b[0m\u001b[0;34m(\u001b[0m\u001b[0mdirection\u001b[0m\u001b[0;34m=\u001b[0m\u001b[0;34m'minimize'\u001b[0m\u001b[0;34m)\u001b[0m\u001b[0;34m\u001b[0m\u001b[0;34m\u001b[0m\u001b[0m\n\u001b[0m\u001b[1;32m      3\u001b[0m \u001b[0mstudy\u001b[0m\u001b[0;34m.\u001b[0m\u001b[0moptimize\u001b[0m\u001b[0;34m(\u001b[0m\u001b[0mobjective\u001b[0m\u001b[0;34m,\u001b[0m \u001b[0mn_trials\u001b[0m\u001b[0;34m=\u001b[0m\u001b[0;36m10\u001b[0m\u001b[0;34m)\u001b[0m\u001b[0;34m\u001b[0m\u001b[0;34m\u001b[0m\u001b[0m\n",
            "\u001b[0;31mNameError\u001b[0m: name 'optuna' is not defined"
          ]
        }
      ],
      "source": [
        "# Create a study and optimize the objective function\n",
        "study = optuna.create_study(direction='minimize')\n",
        "study.optimize(objective, n_trials=10)"
      ]
    },
    {
      "cell_type": "code",
      "execution_count": null,
      "id": "232bb30b-a865-4f8c-a0c3-af7c77a6aaf5",
      "metadata": {
        "id": "232bb30b-a865-4f8c-a0c3-af7c77a6aaf5"
      },
      "outputs": [],
      "source": [
        "# Get the best hyperparameters\n",
        "best_params = study.best_params\n",
        "print(f'Best hyperparameters: {best_params}')\n"
      ]
    },
    {
      "cell_type": "code",
      "execution_count": null,
      "id": "88916126-11f7-4a76-b622-f9ea390e1eba",
      "metadata": {
        "id": "88916126-11f7-4a76-b622-f9ea390e1eba"
      },
      "outputs": [],
      "source": [
        "# Train and evaluate the best model\n",
        "if best_params['model_type'] == 'RandomForest':\n",
        "    best_model = RandomForestRegressor(\n",
        "        n_estimators=best_params['n_estimators'],\n",
        "        max_depth=best_params['max_depth'],\n",
        "        random_state=42\n",
        "    )\n",
        "else:\n",
        "    best_model = GradientBoostingRegressor(\n",
        "        learning_rate=best_params['learning_rate'],\n",
        "        n_estimators=best_params['n_estimators'],\n",
        "        max_depth=best_params['max_depth'],\n",
        "        random_state=42\n",
        "    )\n",
        "best_model.fit(X_train, y_train)\n",
        "y_train_pred = best_model.predict(X_train)\n",
        "y_test_pred = best_model.predict(X_test)\n",
        "\n",
        "mse_train = mean_squared_error(y_train, y_train_pred)\n",
        "rmse_train = np.sqrt(mse_train)\n",
        "r2_train = best_model.score(X_train, y_train)\n",
        "\n",
        "mse_test = mean_squared_error(y_test, y_test_pred)\n",
        "rmse_test = np.sqrt(mse_test)\n",
        "r2_test = best_model.score(X_test, y_test)\n",
        "\n",
        "print(f'Training MSE: {mse_train}')\n",
        "print(f'Training RMSE: {rmse_train}')\n",
        "print(f'Training R²: {r2_train}')\n",
        "print(f'Test MSE: {mse_test}')\n",
        "print(f'Test RMSE: {rmse_test}')\n",
        "print(f'Test R²: {r2_test}')"
      ]
    },
    {
      "cell_type": "code",
      "execution_count": null,
      "id": "6780fd66-40b3-46d7-8ff8-1553b86a4403",
      "metadata": {
        "id": "6780fd66-40b3-46d7-8ff8-1553b86a4403"
      },
      "outputs": [],
      "source": [
        "import matplotlib.pyplot as plt\n",
        "import numpy as np\n",
        "\n",
        "# New performance metrics for combined dataset\n",
        "training_scores_combined = [0.0007820074568386909, 0.027964396235904878, 0.9752001702370817]\n",
        "test_scores_combined = [0.005251404062778026, 0.07246657203689179, 0.8318704074852377]\n",
        "\n",
        "# Set the figure size\n",
        "plt.figure(figsize=(12, 4))\n",
        "\n",
        "# Plotting MSE\n",
        "plt.subplot(1, 3, 1)\n",
        "bar_width = 0.4\n",
        "index = np.arange(2)\n",
        "plt.bar(index, [training_scores_combined[0], test_scores_combined[0]], bar_width, color=['skyblue', 'lightcoral'])\n",
        "plt.xticks(index, ['Train', 'Test'])\n",
        "plt.title('MSE')\n",
        "plt.ylabel('MSE')\n",
        "\n",
        "# Plotting RMSE\n",
        "plt.subplot(1, 3, 2)\n",
        "plt.bar(index, [training_scores_combined[1], test_scores_combined[1]], bar_width, color=['mediumpurple', 'gold'])\n",
        "plt.xticks(index, ['Train', 'Test'])\n",
        "plt.title('RMSE')\n",
        "plt.ylabel('RMSE')\n",
        "\n",
        "# Plotting R²\n",
        "plt.subplot(1, 3, 3)\n",
        "plt.bar(index, [training_scores_combined[2], test_scores_combined[2]], bar_width, color=['forestgreen', 'tomato'])\n",
        "plt.xticks(index, ['Train', 'Test'])\n",
        "plt.title('R²')\n",
        "plt.ylabel('R²')\n",
        "\n",
        "plt.tight_layout()\n",
        "plt.show()\n"
      ]
    },
    {
      "cell_type": "code",
      "execution_count": null,
      "id": "a1971258-9cf0-453b-a1fd-fd3344a3060f",
      "metadata": {
        "id": "a1971258-9cf0-453b-a1fd-fd3344a3060f"
      },
      "outputs": [],
      "source": [
        "# Data for plotting\n",
        "metrics = ['MSE', 'RMSE', 'R²']\n",
        "train_scores_combined = [0.0007820074568386909, 0.027964396235904878, 0.9752001702370817]\n",
        "test_scores_combined = [0.005251404062778026, 0.07246657203689179, 0.8318704074852377]\n",
        "\n",
        "plt.figure(figsize=(10, 6))\n",
        "\n",
        "plt.plot(metrics, train_scores_combined, marker='o', label='Train', color='skyblue')\n",
        "plt.plot(metrics, test_scores_combined, marker='o', label='Test', color='tomato')\n",
        "\n",
        "plt.xlabel('Metrics')\n",
        "plt.ylabel('Scores')\n",
        "plt.title('Train vs Test Performance (Combined Dataset)')\n",
        "plt.legend()\n",
        "plt.grid(True)\n",
        "plt.show()\n"
      ]
    },
    {
      "cell_type": "code",
      "execution_count": null,
      "id": "06d30e9f-773d-4e22-b779-386c3ca29ce2",
      "metadata": {
        "id": "06d30e9f-773d-4e22-b779-386c3ca29ce2"
      },
      "outputs": [],
      "source": [
        "import matplotlib.pyplot as plt\n",
        "import numpy as np\n",
        "\n",
        "# Performance metrics for Happy, Teddy, and Combined datasets\n",
        "happy_metrics = [0.0014137342183336333, 0.03759965715712888, 0.9689838861906248, 0.009705949689442826, 0.09851877835947229, 0.781844647208765]\n",
        "teddy_metrics = [0.0007063669932992196, 0.026577565601447015, 0.960427662321778, 0.0016141123620710361, 0.0401760172499843, 0.9093868114563499]\n",
        "combined_metrics = [0.0007820074568386909, 0.027964396235904878, 0.9752001702370817, 0.005251404062778026, 0.07246657203689179, 0.8318704074852377]\n",
        "\n",
        "# Set the figure size\n",
        "plt.figure(figsize=(18, 6))\n",
        "\n",
        "# Plotting MSE\n",
        "plt.subplot(1, 3, 1)\n",
        "bar_width = 0.2\n",
        "index = np.arange(2)\n",
        "plt.bar(index, [happy_metrics[0], happy_metrics[3]], bar_width, label='Happy', color='blue')\n",
        "plt.bar(index + bar_width, [teddy_metrics[0], teddy_metrics[3]], bar_width, label='Teddy', color='green')\n",
        "plt.bar(index + 2 * bar_width, [combined_metrics[0], combined_metrics[3]], bar_width, label='Combined', color='red')\n",
        "plt.xticks(index + bar_width, ['Train', 'Test'])\n",
        "plt.title('MSE')\n",
        "plt.ylabel('MSE')\n",
        "\n",
        "# Plotting RMSE\n",
        "plt.subplot(1, 3, 2)\n",
        "plt.bar(index, [happy_metrics[1], happy_metrics[4]], bar_width, label='Happy', color='blue')\n",
        "plt.bar(index + bar_width, [teddy_metrics[1], teddy_metrics[4]], bar_width, label='Teddy', color='green')\n",
        "plt.bar(index + 2 * bar_width, [combined_metrics[1], combined_metrics[4]], bar_width, label='Combined', color='red')\n",
        "plt.xticks(index + bar_width, ['Train', 'Test'])\n",
        "plt.title('RMSE')\n",
        "plt.ylabel('RMSE')\n",
        "\n",
        "# Plotting R²\n",
        "plt.subplot(1, 3, 3)\n",
        "plt.bar(index, [happy_metrics[2], happy_metrics[5]], bar_width, label='Happy', color='blue')\n",
        "plt.bar(index + bar_width, [teddy_metrics[2], teddy_metrics[5]], bar_width, label='Teddy', color='green')\n",
        "plt.bar(index + 2 * bar_width, [combined_metrics[2], combined_metrics[5]], bar_width, label='Combined', color='red')\n",
        "plt.xticks(index + bar_width, ['Train', 'Test'])\n",
        "plt.title('R²')\n",
        "plt.ylabel('R²')\n",
        "\n",
        "plt.legend()\n",
        "plt.tight_layout()\n",
        "plt.show()\n"
      ]
    },
    {
      "cell_type": "code",
      "execution_count": null,
      "id": "d23c2214",
      "metadata": {
        "id": "d23c2214"
      },
      "outputs": [],
      "source": [
        "# Data for plotting\n",
        "metrics = ['MSE', 'RMSE', 'R²']\n",
        "train_scores_happy = [0.0014137342183336333, 0.03759965715712888, 0.9689838861906248]\n",
        "test_scores_happy = [0.009705949689442826, 0.09851877835947229, 0.781844647208765]\n",
        "train_scores_teddy = [0.0007063669932992196, 0.026577565601447015, 0.960427662321778]\n",
        "test_scores_teddy = [0.0016141123620710361, 0.0401760172499843, 0.9093868114563499]\n",
        "train_scores_combined = [0.0007820074568386909, 0.027964396235904878, 0.9752001702370817]\n",
        "test_scores_combined = [0.005251404062778026, 0.07246657203689179, 0.8318704074852377]\n",
        "\n",
        "plt.figure(figsize=(12, 8))\n",
        "\n",
        "# Plot Happy dataset\n",
        "plt.plot(metrics, train_scores_happy, marker='o', label='Train - Happy', color='blue', linestyle='dashed')\n",
        "plt.plot(metrics, test_scores_happy, marker='o', label='Test - Happy', color='blue')\n",
        "\n",
        "# Plot Teddy dataset\n",
        "plt.plot(metrics, train_scores_teddy, marker='o', label='Train - Teddy', color='green', linestyle='dashed')\n",
        "plt.plot(metrics, test_scores_teddy, marker='o', label='Test - Teddy', color='green')\n",
        "\n",
        "# Plot Combined dataset\n",
        "plt.plot(metrics, train_scores_combined, marker='o', label='Train - Combined', color='red', linestyle='dashed')\n",
        "plt.plot(metrics, test_scores_combined, marker='o', label='Test - Combined', color='red')\n",
        "\n",
        "plt.xlabel('Metrics')\n",
        "plt.ylabel('Scores')\n",
        "plt.title('Train vs Test Performance Comparison')\n",
        "plt.legend()\n",
        "plt.grid(True)\n",
        "plt.show()\n"
      ]
    },
    {
      "cell_type": "code",
      "execution_count": null,
      "id": "a391a151",
      "metadata": {
        "id": "a391a151"
      },
      "outputs": [],
      "source": []
    }
  ],
  "metadata": {
    "colab": {
      "gpuType": "T4",
      "provenance": []
    },
    "kernelspec": {
      "display_name": "Python 3",
      "name": "python3"
    },
    "language_info": {
      "codemirror_mode": {
        "name": "ipython",
        "version": 3
      },
      "file_extension": ".py",
      "mimetype": "text/x-python",
      "name": "python",
      "nbconvert_exporter": "python",
      "pygments_lexer": "ipython3",
      "version": "3.9.7"
    },
    "accelerator": "GPU"
  },
  "nbformat": 4,
  "nbformat_minor": 5
}